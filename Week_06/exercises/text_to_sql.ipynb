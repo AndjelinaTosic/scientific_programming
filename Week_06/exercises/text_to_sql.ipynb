{
 "cells": [
  {
   "cell_type": "markdown",
   "id": "61847f62",
   "metadata": {},
   "source": [
    "# Interacting with SQL Databases Using Langchain's SQL Agents"
   ]
  },
  {
   "cell_type": "markdown",
   "id": "9b8df3dd",
   "metadata": {},
   "source": [
    "## Libraries and Settings"
   ]
  },
  {
   "cell_type": "code",
   "execution_count": null,
   "id": "b027d889",
   "metadata": {},
   "outputs": [],
   "source": [
    "# Libraries\n",
    "import os\n",
    "import json\n",
    "import sqlite3\n",
    "import pandas as pd\n",
    "import matplotlib.pyplot as plt\n",
    "\n",
    "from langchain.chat_models import ChatOpenAI\n",
    "from langchain.prompts import PromptTemplate\n",
    "from langchain.schema import HumanMessage, SystemMessage\n",
    "\n",
    "# Read OpenAI API key\n",
    "try:\n",
    "    with open('./data/credentials.json') as f:\n",
    "        credentials = json.load(f)\n",
    "    api_key = credentials['openai']['api_key']\n",
    "except:\n",
    "    print(\"Please provide your OpenAI API key in the credentials.json file.\")\n",
    "\n",
    "# Path to the database\n",
    "DB_PATH = './data/apartments_data.db'\n",
    "\n",
    "# Settings\n",
    "import warnings\n",
    "warnings.filterwarnings(\"ignore\")\n",
    "\n",
    "# Current working directory\n",
    "print(os.getcwd())"
   ]
  },
  {
   "cell_type": "markdown",
   "id": "18f83bf3",
   "metadata": {},
   "source": [
    "## Function to query the database and return the result as a DataFrame"
   ]
  },
  {
   "cell_type": "code",
   "execution_count": null,
   "id": "288c472a",
   "metadata": {},
   "outputs": [],
   "source": [
    "# Function to query the database and return the result as a DataFrame\n",
    "def query_database(sql_query):\n",
    "    \"\"\"Execute an SQL query on the SQLite database and return the result as a DataFrame.\"\"\"\n",
    "    connection = sqlite3.connect(DB_PATH)\n",
    "    cursor = connection.cursor()\n",
    "    try:\n",
    "        cursor.execute(sql_query)\n",
    "        result = cursor.fetchall()\n",
    "        columns = [description[0] for description in cursor.description]\n",
    "        connection.close()\n",
    "        df = pd.DataFrame(result, columns=columns)\n",
    "        return df\n",
    "    except Exception as e:\n",
    "        connection.close()\n",
    "        raise e"
   ]
  },
  {
   "cell_type": "markdown",
   "id": "d04ae4e8",
   "metadata": {},
   "source": [
    "## Standard SQL queries"
   ]
  },
  {
   "cell_type": "markdown",
   "id": "59e665f8",
   "metadata": {},
   "source": [
    "### Select all apartments"
   ]
  },
  {
   "cell_type": "code",
   "execution_count": null,
   "id": "7f732210",
   "metadata": {},
   "outputs": [],
   "source": [
    "# Count number of apartments\n",
    "query = '''SELECT \n",
    "           address,\n",
    "           rooms,\n",
    "           area,\n",
    "           price\n",
    "           FROM apartments_table'''\n",
    "\n",
    "# Query the database\n",
    "result = query_database(query)\n",
    "\n",
    "# Show the first 5 rows\n",
    "result.head()"
   ]
  },
  {
   "cell_type": "markdown",
   "id": "843d0328",
   "metadata": {},
   "source": [
    "### Count the number of apartments"
   ]
  },
  {
   "cell_type": "code",
   "execution_count": null,
   "id": "3768f5e6",
   "metadata": {},
   "outputs": [],
   "source": [
    "# Count number of apartments\n",
    "query = '''SELECT COUNT(*) AS apartment_count\n",
    "           FROM apartments_table'''\n",
    "\n",
    "# Query the database\n",
    "result = query_database(query)\n",
    "\n",
    "# Show the count\n",
    "print(\"Number of apartments:\", result['apartment_count'].iloc[0])"
   ]
  },
  {
   "cell_type": "markdown",
   "id": "2b3fd6dc",
   "metadata": {},
   "source": [
    "### Calculate the average price of selected apartments"
   ]
  },
  {
   "cell_type": "code",
   "execution_count": null,
   "id": "7e5312b1",
   "metadata": {},
   "outputs": [],
   "source": [
    "# Query\n",
    "query = '''SELECT AVG(price) AS average_price\n",
    "           FROM apartments_table\n",
    "           WHERE rooms = 3.5;'''\n",
    "\n",
    "# Query the database\n",
    "result = query_database(query)\n",
    "\n",
    "# Show the average price\n",
    "print(\"Average price of apartments with 3.5 rooms and >= 100m² living area:\", \n",
    "      f\"{result['average_price'].iloc[0]:.4f}\")"
   ]
  },
  {
   "cell_type": "markdown",
   "id": "1a6edc28",
   "metadata": {},
   "source": [
    "## Use an SQL Database Agent with LangChain to query the database"
   ]
  },
  {
   "cell_type": "markdown",
   "id": "9ebe64b9",
   "metadata": {},
   "source": [
    "### LangChain Setup"
   ]
  },
  {
   "cell_type": "code",
   "execution_count": null,
   "id": "3a07d439",
   "metadata": {},
   "outputs": [],
   "source": [
    "# Function to query the database and return the result as a DataFrame\n",
    "def query_database(sql_query):\n",
    "    \"Execute an SQL query on the SQLite database and return the result as a DataFrame.\"\n",
    "    connection = sqlite3.connect(DB_PATH)\n",
    "    cursor = connection.cursor()\n",
    "    try:\n",
    "        cursor.execute(sql_query)\n",
    "        result = cursor.fetchall()\n",
    "        columns = [description[0] for description in cursor.description]\n",
    "        connection.close()\n",
    "        df = pd.DataFrame(result, columns=columns)\n",
    "        return df, None\n",
    "    except Exception as e:\n",
    "        connection.close()\n",
    "        return pd.DataFrame(), str(e)\n",
    "\n",
    "# Function to generate an SQL query using LangChain\n",
    "def langchain_sql_agent(user_prompt):\n",
    "    \"\"\"Generate and execute an SQL query using LangChain.\"\"\"\n",
    "    \n",
    "    # Initialize the ChatOpenAI model\n",
    "    chat = ChatOpenAI(\n",
    "        temperature=0,\n",
    "        model=\"gpt-3.5-turbo\",\n",
    "        openai_api_key=api_key\n",
    "    )\n",
    "\n",
    "    # System prompt for the agent\n",
    "    system_prompt = SystemMessage(\n",
    "        content=\"\"\"You are an SQL expert. You translate natural language questions \n",
    "                    into valid SQL queries. Ensure the SQL query does not include \n",
    "                    any Markdown formatting.\"\"\")\n",
    "    \n",
    "    # User prompt\n",
    "    user_prompt = HumanMessage(content=f\"Translate this request into a valid SQL query: {user_prompt}\")\n",
    "    \n",
    "    # Generate SQL query using LangChain\n",
    "    try:\n",
    "        response = chat([system_prompt, user_prompt])\n",
    "        sql_query = response.content.strip()\n",
    "        \n",
    "        # Remove any Markdown formatting from the generated SQL query\n",
    "        if sql_query.startswith(\"```sql\") and sql_query.endswith(\"```\"):\n",
    "            sql_query = sql_query[6:-3].strip()\n",
    "        \n",
    "        print(f\"Generated SQL Query:\\n{sql_query}\")\n",
    "        \n",
    "        # Execute the query and fetch results\n",
    "        df, error = query_database(sql_query)\n",
    "\n",
    "        if error:\n",
    "            print(f\"Error: {error}\")\n",
    "            return error\n",
    "        else:\n",
    "            return df\n",
    "    except Exception as e:\n",
    "        return str(e)"
   ]
  },
  {
   "cell_type": "markdown",
   "id": "430836d9",
   "metadata": {},
   "source": [
    "### Select all data in the database"
   ]
  },
  {
   "cell_type": "code",
   "execution_count": null,
   "id": "feaa67da",
   "metadata": {},
   "outputs": [],
   "source": [
    "# Query\n",
    "query = \"\"\"Show colums address, rooms, area, price of all data in the apartments_table!\"\"\"\n",
    "\n",
    "# Execute the agent\n",
    "result = langchain_sql_agent(query)\n",
    "\n",
    "# Show the result\n",
    "result.head()"
   ]
  },
  {
   "cell_type": "markdown",
   "id": "50138830",
   "metadata": {},
   "source": [
    "### Count the number of apartments"
   ]
  },
  {
   "cell_type": "code",
   "execution_count": null,
   "id": "adc394f1",
   "metadata": {},
   "outputs": [],
   "source": [
    "# Query\n",
    "query = \"\"\"Show the number of apartments in the apartments_table!\"\"\"\n",
    "\n",
    "# Execute the agent\n",
    "langchain_sql_agent(query)"
   ]
  },
  {
   "cell_type": "markdown",
   "id": "2a754e4c",
   "metadata": {},
   "source": [
    "### Calculate the average price of selected apartments"
   ]
  },
  {
   "cell_type": "code",
   "execution_count": null,
   "id": "f631aac5",
   "metadata": {},
   "outputs": [],
   "source": [
    "# Query\n",
    "query = \"\"\"What is the average price of apartments with \n",
    "           3.5 rooms in the apartments_table?\"\"\"\n",
    "\n",
    "# Execute the agent\n",
    "langchain_sql_agent(query)"
   ]
  },
  {
   "attachments": {},
   "cell_type": "markdown",
   "id": "ff525b1e",
   "metadata": {},
   "source": [
    "### Jupyter notebook --footer info-- (please always provide this at the end of each notebook)"
   ]
  },
  {
   "cell_type": "code",
   "execution_count": null,
   "id": "e6cae5b2",
   "metadata": {},
   "outputs": [],
   "source": [
    "import os\n",
    "import platform\n",
    "import socket\n",
    "from platform import python_version\n",
    "from datetime import datetime\n",
    "\n",
    "print('-----------------------------------')\n",
    "print(os.name.upper())\n",
    "print(platform.system(), '|', platform.release())\n",
    "print('Datetime:', datetime.now().strftime(\"%Y-%m-%d %H:%M:%S\"))\n",
    "print('Python Version:', python_version())\n",
    "print('-----------------------------------')"
   ]
  }
 ],
 "metadata": {
  "kernelspec": {
   "display_name": "spenv",
   "language": "python",
   "name": "python3"
  },
  "language_info": {
   "codemirror_mode": {
    "name": "ipython",
    "version": 3
   },
   "file_extension": ".py",
   "mimetype": "text/x-python",
   "name": "python",
   "nbconvert_exporter": "python",
   "pygments_lexer": "ipython3",
   "version": "3.11.10"
  }
 },
 "nbformat": 4,
 "nbformat_minor": 5
}
